{
  "nbformat": 4,
  "nbformat_minor": 0,
  "metadata": {
    "colab": {
      "provenance": []
    },
    "kernelspec": {
      "name": "python3",
      "display_name": "Python 3"
    },
    "language_info": {
      "name": "python"
    }
  },
  "cells": [
    {
      "cell_type": "code",
      "execution_count": null,
      "metadata": {
        "id": "MIYe_hrsd4VB"
      },
      "outputs": [],
      "source": [
        "import pandas as pd\n",
        "import matplotlib.pyplot as plt\n",
        "import numpy as np"
      ]
    },
    {
      "cell_type": "code",
      "source": [
        "dataset=pd.read_csv('evdataset.csv')\n",
        "# x=dataset.iloc[:,:].values\n",
        "# y=dataset.iloc[:,:].values\n"
      ],
      "metadata": {
        "id": "CjrIfNmsyxXf"
      },
      "execution_count": null,
      "outputs": []
    },
    {
      "cell_type": "code",
      "source": [
        "from sklearn.compose import ColumnTransformer\n",
        "from sklearn.preprocessing import LabelEncoder\n",
        "le=LabelEncoder()\n",
        "label=le.fit_transform(dataset[\"Make\"])\n",
        "dataset.drop(\"Make\",axis=1,inplace=True)\n",
        "dataset[\"Make\"]=label\n",
        "label2=le.fit_transform(dataset[\"Drive\"])\n",
        "dataset.drop(\"Drive\",axis=1,inplace=True)\n",
        "dataset[\"Drive\"]=label2\n",
        "#dataset\n",
        "\n",
        "x=dataset.drop(['link','Electric Range'],axis=1).values\n",
        "y=dataset['Electric Range'].values\n"
      ],
      "metadata": {
        "id": "uWT9dtYZoRaD"
      },
      "execution_count": null,
      "outputs": []
    },
    {
      "cell_type": "code",
      "source": [
        "from sklearn.model_selection import train_test_split\n",
        "x_train,x_test,y_train,y_test=train_test_split(x,y,test_size=0.25,random_state=0)"
      ],
      "metadata": {
        "id": "KYo_8C4S1VqH"
      },
      "execution_count": null,
      "outputs": []
    },
    {
      "cell_type": "code",
      "source": [
        "from sklearn.linear_model import LinearRegression\n",
        "ml=LinearRegression()\n",
        "ml.fit(x_train,y_train)"
      ],
      "metadata": {
        "colab": {
          "base_uri": "https://localhost:8080/"
        },
        "id": "mvPLFhky1dfv",
        "outputId": "06570e3d-d43c-4377-9fe7-3d5d1d4025e6"
      },
      "execution_count": null,
      "outputs": [
        {
          "output_type": "execute_result",
          "data": {
            "text/plain": [
              "LinearRegression()"
            ]
          },
          "metadata": {},
          "execution_count": 6
        }
      ]
    },
    {
      "cell_type": "code",
      "source": [
        "y_pred=ml.predict(x_test)\n",
        "#np.set_printoptions(precision=2)\n",
        "#print(np.concatenate((y_pred.reshape(len(y_pred),1),y_test.reshape(len(y_test),1)),axis=1))\n",
        "print(y_pred)"
      ],
      "metadata": {
        "colab": {
          "base_uri": "https://localhost:8080/"
        },
        "id": "6jZM1Usp1lLe",
        "outputId": "70b250b9-c198-4ab1-f7a7-965cc67ed511"
      },
      "execution_count": null,
      "outputs": [
        {
          "output_type": "stream",
          "name": "stdout",
          "text": [
            "[381.89108209 355.21906724 296.85471535 265.45935068 350.82500714\n",
            " 335.90858934 478.31832003 485.78593759 426.04198193 400.08744056\n",
            " 277.56105095 259.76196106 285.01714918 425.50164647 337.80871937\n",
            " 178.2307921  180.75905559 307.90817428 435.29015684 234.97297856\n",
            " 439.90353356 640.07232677 458.71415466 526.44415529 394.73829546\n",
            " 265.54941225 611.70200794 178.65230096 406.76492309 292.50911877\n",
            " 247.98257855 372.72543262 385.35046659 451.59205784 451.2491146\n",
            " 265.50410757 285.27008634 265.34959448 386.00651288 454.16229144\n",
            " 260.16359524 435.63267846 401.03443322 483.59564868 402.42332103\n",
            " 259.96055122 485.28942651 176.25344356 513.95246159]\n"
          ]
        }
      ]
    },
    {
      "cell_type": "code",
      "source": [
        "from sklearn.metrics import r2_score\n",
        "print(r2_score(y_test,y_pred))"
      ],
      "metadata": {
        "colab": {
          "base_uri": "https://localhost:8080/"
        },
        "id": "fu7hWaih2lin",
        "outputId": "88381806-8b8d-4b37-b7b0-38ff757d3210"
      },
      "execution_count": null,
      "outputs": [
        {
          "output_type": "stream",
          "name": "stdout",
          "text": [
            "0.9998069884260569\n"
          ]
        }
      ]
    },
    {
      "cell_type": "code",
      "source": [
        "# ds=pd.DataFrame({\"x\":y_test,\"y\":y_pred})\n",
        "# ds.plot(\"x\",\"y\",color=\"r\")\n",
        "# plt.show()\n",
        "#plt.scatter(y_test,y_pred,c='orange')"
      ],
      "metadata": {
        "id": "nNhEsAP12H0J"
      },
      "execution_count": null,
      "outputs": []
    },
    {
      "cell_type": "code",
      "source": [
        "x_features=['id','City - Cold Weather','Highway - Cold Weather','Combined - Cold Weather','City - Mild Weather','Highway - Mild Weather','Combined - Mild Weather','Acceleration','Top Speed','Total Power','Total Torque','Electric Range']\n",
        "fig,ax=plt.subplots(1,4,figsize=(15,3),sharey=True)\n",
        "for i in range(len(ax)):\n",
        "    ax[i].scatter(x_train[:,i],y_train, label = 'target')\n",
        "    ax[i].set_xlabel(x_features[i])\n",
        "    ax[i].scatter(x_train[:,i],ml.predict(x_train),c='orange', label = 'predict')\n",
        "ax[0].set_ylabel(\"Speed\"); ax[0].legend();\n",
        "#fig.suptitle(\"target versus prediction using z-score normalized model\")\n",
        "plt.show()\n",
        "\n"
      ],
      "metadata": {
        "colab": {
          "base_uri": "https://localhost:8080/",
          "height": 225
        },
        "id": "njKlpJUYb5AI",
        "outputId": "a5cb6695-d757-4c9b-b2cf-451cf9bce6c3"
      },
      "execution_count": null,
      "outputs": [
        {
          "output_type": "display_data",
          "data": {
            "text/plain": [
              "<Figure size 1080x216 with 4 Axes>"
            ],
            "image/png": "[encoded data removed]"
          },
          "metadata": {
            "needs_background": "light"
          }
        }
      ]
    }
  ]
}